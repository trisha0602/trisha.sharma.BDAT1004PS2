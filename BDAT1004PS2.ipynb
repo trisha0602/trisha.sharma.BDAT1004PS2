{
 "cells": [
  {
   "cell_type": "markdown",
   "id": "d87804c7",
   "metadata": {},
   "source": [
    "# Question 1"
   ]
  },
  {
   "cell_type": "markdown",
   "id": "e670f1a9",
   "metadata": {},
   "source": [
    "Solution:"
   ]
  },
  {
   "cell_type": "markdown",
   "id": "83efef39",
   "metadata": {},
   "source": [
    "#### When a is called, it will display 6.\n",
    "\n",
    "Executing b() for the first time will call the defination that is defined in def b():, and while executing the defination, function of c(a) is called.\n",
    "The defination execution of def c(a) returns (a+2), since the value of a is 0 at this point of time, thus the value returned is (0+2). (Value of a is updated from 0 to 2).\n",
    "\n",
    "Executing b() second time, will again call the defination that is defined in def b():, and while   executing the defination, function of c(a)is called.\n",
    "The defination execution of def c(a) returns (a+2), since the value of a is 2 at this point of time , thus the value returned is (2+2). (Value of a is updated from 2 to 4).\n",
    "\n",
    "Executing b() third time, will once again call the defination that is defined in def b():, and while   executing the defination, function of c(a)is called.\n",
    "The defination execution of def c(a) returns (a+2), since the value of a is 4 at this point of time , thus the value returned is (4+2). (Value of a is updated from 4 to 6).\n",
    "\n",
    "\n",
    "Note: The value of a was getting updated inside the function, and was also being used outside of the functions, due to the usage of global keyword."
   ]
  },
  {
   "cell_type": "markdown",
   "id": "4a292d6a",
   "metadata": {},
   "source": [
    "# Question 2"
   ]
  },
  {
   "cell_type": "markdown",
   "id": "2a191d53",
   "metadata": {},
   "source": [
    "Solution:"
   ]
  },
  {
   "cell_type": "code",
   "execution_count": 30,
   "id": "c1523450",
   "metadata": {},
   "outputs": [
    {
     "name": "stdout",
     "output_type": "stream",
     "text": [
      "File idterm.py not found.\n"
     ]
    }
   ],
   "source": [
    "def fileLength(filename):\n",
    "    try:\n",
    "        MidtermFile = open(filename)\n",
    "        FileLine = MidtermFile.readlines()\n",
    "        MidtermFile.close()\n",
    "        return len(FileLine)\n",
    "    except IOError:\n",
    "        print(\"File idterm.py not found.\")\n",
    "    except FileNotFoundError:\n",
    "         print(\"Cannot read file\")\n",
    "\n",
    "fileLength('C:/Users/sharm/Dropbox/My PC (LAPTOP-UGLC0FVG)/Desktop/idterm.py')"
   ]
  },
  {
   "cell_type": "markdown",
   "id": "10502394",
   "metadata": {},
   "source": [
    "# Question 3"
   ]
  },
  {
   "cell_type": "markdown",
   "id": "2a936241",
   "metadata": {},
   "source": [
    "Solution:"
   ]
  },
  {
   "cell_type": "markdown",
   "id": "b43b85ee",
   "metadata": {},
   "source": [
    "Unable to solve"
   ]
  },
  {
   "cell_type": "markdown",
   "id": "787657c3",
   "metadata": {},
   "source": [
    "# Question 4"
   ]
  },
  {
   "cell_type": "markdown",
   "id": "3a785d97",
   "metadata": {},
   "source": [
    "Solution:"
   ]
  },
  {
   "cell_type": "code",
   "execution_count": 23,
   "id": "fb30ad96",
   "metadata": {},
   "outputs": [
    {
     "name": "stdout",
     "output_type": "stream",
     "text": [
      "10\n",
      "5\n",
      "16\n",
      "8\n",
      "4\n",
      "2\n",
      "1\n"
     ]
    }
   ],
   "source": [
    "def collatz(x):\n",
    "    print (x),\n",
    "    if x > 1:\n",
    "        collatz(3 * x + 1 if x % 2 else x // 2)\n",
    "collatz(10)"
   ]
  },
  {
   "cell_type": "markdown",
   "id": "f2e0eddd",
   "metadata": {},
   "source": [
    "# Question 5"
   ]
  },
  {
   "cell_type": "markdown",
   "id": "28ad7f58",
   "metadata": {},
   "source": [
    "Solution:"
   ]
  },
  {
   "cell_type": "code",
   "execution_count": 38,
   "id": "bcefdb5a",
   "metadata": {},
   "outputs": [
    {
     "name": "stdout",
     "output_type": "stream",
     "text": [
      "Enter an integer: 3\n",
      "11"
     ]
    }
   ],
   "source": [
    "def binary(n):\n",
    "   if n > 1:\n",
    "       binary(n//2)\n",
    "   print(n % 2,end = '')\n",
    "\n",
    "Convert = int(input(\"Enter an integer: \"))\n",
    "binary(Convert)"
   ]
  },
  {
   "cell_type": "markdown",
   "id": "064e8238",
   "metadata": {},
   "source": [
    "# Question 6"
   ]
  },
  {
   "cell_type": "markdown",
   "id": "2b7e0b69",
   "metadata": {},
   "source": [
    "Solution:"
   ]
  },
  {
   "cell_type": "code",
   "execution_count": 49,
   "id": "7f8b1461",
   "metadata": {},
   "outputs": [
    {
     "name": "stdout",
     "output_type": "stream",
     "text": [
      " \n",
      "\n",
      " \n",
      "\n",
      "W3C Mission Summary\n",
      " \n",
      "\n",
      "\n",
      "\n",
      "\n",
      "\n",
      "W3C Mission\n",
      "\n",
      "\n",
      "\n",
      "The W3C mission is to lead the World Wide Web to its full potential\n",
      "\n",
      "by developing protocols and guidelines that ensure the long-term growth of the Web.\n",
      "\n",
      "\n",
      "\n",
      "Principles\n",
      "\n",
      "\n",
      "\n",
      "\n",
      "Web for All\n",
      "\n",
      "\n",
      "Web on Everything\n",
      "\n",
      "\n",
      "\n",
      "See the complete \n",
      "W3C Mission document\n",
      ".\n",
      "\n",
      "\n",
      "\n"
     ]
    }
   ],
   "source": [
    "from html.parser import HTMLParser\n",
    "class LinkParser(HTMLParser):\n",
    "\n",
    "    def handle_starttag(self, tag, attrs):\n",
    "        if tag == 'h1':\n",
    "            for attr in attrs:\n",
    "                print(attr[0])\n",
    "                \n",
    "    def handle_data(self, data):    \n",
    "        print(data)\n",
    "                \n",
    "infile = open('C:/Users/sharm/Dropbox/My PC (LAPTOP-UGLC0FVG)/Desktop/BDAT/1004/Week 06 Notebook/Week 06 Notebook/w3c.html') \n",
    "content = infile.read() \n",
    "infile.close() \n",
    "from html.parser import HTMLParser \n",
    "parser = LinkParser()\n",
    "parser.feed(content)"
   ]
  },
  {
   "cell_type": "markdown",
   "id": "67152cad",
   "metadata": {},
   "source": [
    "Using method explained in week 6 class, I used handle_starttag to search for h1 starttag in the html file.\n",
    "\n",
    "I also tried using handle_data but it printed the entire data."
   ]
  },
  {
   "cell_type": "markdown",
   "id": "43684785",
   "metadata": {},
   "source": [
    "# Question 7"
   ]
  },
  {
   "cell_type": "markdown",
   "id": "a62f5f0a",
   "metadata": {},
   "source": [
    "Solution:"
   ]
  },
  {
   "cell_type": "markdown",
   "id": "b4f417bb",
   "metadata": {},
   "source": [
    "Unable to solve"
   ]
  },
  {
   "cell_type": "markdown",
   "id": "3d6636b5",
   "metadata": {},
   "source": [
    "# Question 8\n",
    "Write SQL queries on the below database table that return: "
   ]
  },
  {
   "cell_type": "code",
   "execution_count": 2,
   "id": "9488fd58",
   "metadata": {},
   "outputs": [],
   "source": [
    "import sqlite3\n",
    "con = sqlite3.connect('ClimateDB.db')\n",
    "cur = con.cursor()\n",
    "cur.execute(\"CREATE TABLE Climate_data (City, Country, Season, Temperature, Rainfall)\")\n",
    "cur.execute(\"INSERT INTO Climate_data VALUES('Mumbai','India','Winter','24.8','5.9' )\")\n",
    "cur.execute(\"INSERT INTO Climate_data VALUES('Mumbai','India','Spring','28.4','16.2' )\")\n",
    "cur.execute(\"INSERT INTO Climate_data VALUES('Mumbai','India','Summer','27.9','1549.4' )\")\n",
    "cur.execute(\"INSERT INTO Climate_data VALUES('Mumbai','India','Fall','27.6','346.0' )\")\n",
    "cur.execute(\"INSERT INTO Climate_data VALUES('London','United Kingdom','Winter','4.2','207.7' )\")\n",
    "cur.execute(\"INSERT INTO Climate_data VALUES('London','United Kingdom','Spring','8.3','169.6' )\")\n",
    "cur.execute(\"INSERT INTO Climate_data VALUES('London','United Kingdom','Summer','15.7','157.0' )\")\n",
    "cur.execute(\"INSERT INTO Climate_data VALUES('London','United Kingdom','Fall','10.4','218.5' )\")\n",
    "cur.execute(\"INSERT INTO Climate_data VALUES('Cairo','Egypt','Winter','13.6','16.5' )\")\n",
    "cur.execute(\"INSERT INTO Climate_data VALUES('Cairo','Egypt','Spring','20.7','6.5' )\")\n",
    "cur.execute(\"INSERT INTO Climate_data VALUES('Cairo','Egypt','Summer','27.7','0.1' )\")\n",
    "cur.execute(\"INSERT INTO Climate_data VALUES('Cairo','Egypt','Fall','22.2','4.5' )\")\n",
    "con.commit()\n",
    "con.close()"
   ]
  },
  {
   "cell_type": "code",
   "execution_count": 3,
   "id": "7105ca0b",
   "metadata": {},
   "outputs": [
    {
     "data": {
      "text/plain": [
       "[('Mumbai', 'India', 'Winter', '24.8', '5.9'),\n",
       " ('Mumbai', 'India', 'Spring', '28.4', '16.2'),\n",
       " ('Mumbai', 'India', 'Summer', '27.9', '1549.4'),\n",
       " ('Mumbai', 'India', 'Fall', '27.6', '346.0'),\n",
       " ('London', 'United Kingdom', 'Winter', '4.2', '207.7'),\n",
       " ('London', 'United Kingdom', 'Spring', '8.3', '169.6'),\n",
       " ('London', 'United Kingdom', 'Summer', '15.7', '157.0'),\n",
       " ('London', 'United Kingdom', 'Fall', '10.4', '218.5'),\n",
       " ('Cairo', 'Egypt', 'Winter', '13.6', '16.5'),\n",
       " ('Cairo', 'Egypt', 'Spring', '20.7', '6.5'),\n",
       " ('Cairo', 'Egypt', 'Summer', '27.7', '0.1'),\n",
       " ('Cairo', 'Egypt', 'Fall', '22.2', '4.5')]"
      ]
     },
     "execution_count": 3,
     "metadata": {},
     "output_type": "execute_result"
    }
   ],
   "source": [
    "con = sqlite3.connect('ClimateDB.db')\n",
    "cur = con.cursor()\n",
    "cur.execute('SELECT * FROM Climate_data')\n",
    "cur.fetchall()"
   ]
  },
  {
   "cell_type": "markdown",
   "id": "ce1fc899",
   "metadata": {},
   "source": [
    "a) All the temperature data."
   ]
  },
  {
   "cell_type": "code",
   "execution_count": 4,
   "id": "ae195be0",
   "metadata": {},
   "outputs": [
    {
     "data": {
      "text/plain": [
       "[('24.8',),\n",
       " ('28.4',),\n",
       " ('27.9',),\n",
       " ('27.6',),\n",
       " ('4.2',),\n",
       " ('8.3',),\n",
       " ('15.7',),\n",
       " ('10.4',),\n",
       " ('13.6',),\n",
       " ('20.7',),\n",
       " ('27.7',),\n",
       " ('22.2',)]"
      ]
     },
     "execution_count": 4,
     "metadata": {},
     "output_type": "execute_result"
    }
   ],
   "source": [
    "con = sqlite3.connect('ClimateDB.db')\n",
    "cur = con.cursor()\n",
    "cur.execute('SELECT Temperature from Climate_data')\n",
    "cur.fetchall()"
   ]
  },
  {
   "cell_type": "markdown",
   "id": "79c6a714",
   "metadata": {},
   "source": [
    "b) All the cities, but without repetition"
   ]
  },
  {
   "cell_type": "code",
   "execution_count": 6,
   "id": "f3ec55a5",
   "metadata": {
    "scrolled": true
   },
   "outputs": [
    {
     "data": {
      "text/plain": [
       "[('Mumbai',), ('London',), ('Cairo',)]"
      ]
     },
     "execution_count": 6,
     "metadata": {},
     "output_type": "execute_result"
    }
   ],
   "source": [
    "con = sqlite3.connect('ClimateDB.db')\n",
    "cur = con.cursor()\n",
    "cur.execute('SELECT DISTINCT City from Climate_data')\n",
    "cur.fetchall()"
   ]
  },
  {
   "cell_type": "markdown",
   "id": "f93eae51",
   "metadata": {},
   "source": [
    "c) All the records for India."
   ]
  },
  {
   "cell_type": "code",
   "execution_count": 10,
   "id": "e946ab64",
   "metadata": {
    "scrolled": false
   },
   "outputs": [
    {
     "data": {
      "text/plain": [
       "[('Mumbai', 'India', 'Winter', '24.8', '5.9'),\n",
       " ('Mumbai', 'India', 'Spring', '28.4', '16.2'),\n",
       " ('Mumbai', 'India', 'Summer', '27.9', '1549.4'),\n",
       " ('Mumbai', 'India', 'Fall', '27.6', '346.0')]"
      ]
     },
     "execution_count": 10,
     "metadata": {},
     "output_type": "execute_result"
    }
   ],
   "source": [
    "con = sqlite3.connect('ClimateDB.db')\n",
    "cur = con.cursor()\n",
    "cur.execute('SELECT * from Climate_data where Country=\"India\" ')\n",
    "cur.fetchall()"
   ]
  },
  {
   "cell_type": "markdown",
   "id": "cacc14e1",
   "metadata": {},
   "source": [
    "d) All the Fall records."
   ]
  },
  {
   "cell_type": "code",
   "execution_count": 11,
   "id": "384f2352",
   "metadata": {},
   "outputs": [
    {
     "data": {
      "text/plain": [
       "[('Mumbai', 'India', 'Fall', '27.6', '346.0'),\n",
       " ('London', 'United Kingdom', 'Fall', '10.4', '218.5'),\n",
       " ('Cairo', 'Egypt', 'Fall', '22.2', '4.5')]"
      ]
     },
     "execution_count": 11,
     "metadata": {},
     "output_type": "execute_result"
    }
   ],
   "source": [
    "con = sqlite3.connect('ClimateDB.db')\n",
    "cur = con.cursor()\n",
    "cur.execute('SELECT * from Climate_data where Season=\"Fall\" ')\n",
    "cur.fetchall()"
   ]
  },
  {
   "cell_type": "markdown",
   "id": "eb9f8292",
   "metadata": {},
   "source": [
    "e) The city, country, and season for which the average rainfall is between 200\n",
    "and 400 millimeters."
   ]
  },
  {
   "cell_type": "code",
   "execution_count": 79,
   "id": "c988ed0a",
   "metadata": {
    "scrolled": true
   },
   "outputs": [
    {
     "data": {
      "text/plain": [
       "[('Mumbai', 'India', 'Fall'),\n",
       " ('London', 'United Kingdom', 'Winter'),\n",
       " ('London', 'United Kingdom', 'Fall'),\n",
       " ('Cairo', 'Egypt', 'Fall')]"
      ]
     },
     "execution_count": 79,
     "metadata": {},
     "output_type": "execute_result"
    }
   ],
   "source": [
    "con = sqlite3.connect('ClimateDB.db')\n",
    "cur = con.cursor()\n",
    "cur.execute('SELECT City , Country, Season from Climate_data where Rainfall between \"200\" AND \"400\" ')\n",
    "cur.fetchall()"
   ]
  },
  {
   "cell_type": "markdown",
   "id": "02808c87",
   "metadata": {},
   "source": [
    "f) The city and country for which the average Fall temperature is above 20\n",
    "degrees, in increasing temperature order."
   ]
  },
  {
   "cell_type": "code",
   "execution_count": 18,
   "id": "7236fcfb",
   "metadata": {},
   "outputs": [
    {
     "data": {
      "text/plain": [
       "[('Cairo', 'Egypt'), ('Mumbai', 'India'), ('London', 'United Kingdom')]"
      ]
     },
     "execution_count": 18,
     "metadata": {},
     "output_type": "execute_result"
    }
   ],
   "source": [
    "con = sqlite3.connect('ClimateDB.db')\n",
    "cur = con.cursor()\n",
    "cur.execute('SELECT City, Country from Climate_data where Season=\"Winter\" and temperature>20 order by temperature')\n",
    "cur.fetchall()"
   ]
  },
  {
   "cell_type": "markdown",
   "id": "59797fea",
   "metadata": {},
   "source": [
    "g) The total annual rainfall for Cairo."
   ]
  },
  {
   "cell_type": "code",
   "execution_count": 19,
   "id": "5fb0ed88",
   "metadata": {},
   "outputs": [
    {
     "data": {
      "text/plain": [
       "[('Cairo', 27.6)]"
      ]
     },
     "execution_count": 19,
     "metadata": {},
     "output_type": "execute_result"
    }
   ],
   "source": [
    "con = sqlite3.connect('ClimateDB.db')\n",
    "cur = con.cursor()\n",
    "cur.execute('SELECT City, SUM(Rainfall) from Climate_data where City=\"Cairo\" Group by 1')\n",
    "cur.fetchall()"
   ]
  },
  {
   "cell_type": "markdown",
   "id": "bfc59d3e",
   "metadata": {},
   "source": [
    "h) The total rainfall for each season."
   ]
  },
  {
   "cell_type": "code",
   "execution_count": 20,
   "id": "1bfbd625",
   "metadata": {},
   "outputs": [
    {
     "data": {
      "text/plain": [
       "[('Fall', 569.0),\n",
       " ('Spring', 192.29999999999998),\n",
       " ('Summer', 1706.5),\n",
       " ('Winter', 230.1)]"
      ]
     },
     "execution_count": 20,
     "metadata": {},
     "output_type": "execute_result"
    }
   ],
   "source": [
    "con = sqlite3.connect('ClimateDB.db')\n",
    "cur = con.cursor()\n",
    "cur.execute('SELECT Season, SUM(Rainfall) from Climate_data Group by 1')\n",
    "cur.fetchall()"
   ]
  },
  {
   "cell_type": "markdown",
   "id": "ac0cf68b",
   "metadata": {},
   "source": [
    "# Question 9"
   ]
  },
  {
   "cell_type": "markdown",
   "id": "9d243858",
   "metadata": {},
   "source": [
    "Solution:"
   ]
  },
  {
   "cell_type": "code",
   "execution_count": 61,
   "id": "cfa3a68c",
   "metadata": {},
   "outputs": [
    {
     "name": "stdout",
     "output_type": "stream",
     "text": [
      "['THE', 'QUICK', 'BROWN', 'FOX', 'JUMPS', 'OVER', 'THE', 'LAZY', 'DOG']\n"
     ]
    }
   ],
   "source": [
    " words = ['The', 'quick', 'brown', 'fox', 'jumps', 'over', 'the', 'lazy', 'dog']\n",
    "for i in range(len(words)):\n",
    "    words[i] = words[i].upper()\n",
    "print(words)\n",
    "\n"
   ]
  },
  {
   "cell_type": "code",
   "execution_count": 55,
   "id": "3b6c7945",
   "metadata": {},
   "outputs": [
    {
     "name": "stdout",
     "output_type": "stream",
     "text": [
      "['the', 'quick', 'brown', 'fox', 'jumps', 'over', 'the', 'lazy', 'dog']\n"
     ]
    }
   ],
   "source": [
    " words = ['The', 'quick', 'brown', 'fox', 'jumps', 'over', 'the', 'lazy', 'dog']\n",
    "for i in range(len(words)):\n",
    "    words[i] = words[i].lower()\n",
    "print(words)"
   ]
  },
  {
   "cell_type": "code",
   "execution_count": 95,
   "id": "db7aaa99",
   "metadata": {},
   "outputs": [
    {
     "name": "stdout",
     "output_type": "stream",
     "text": [
      "[3, 5, 5, 3, 5, 4, 3, 4, 3]\n"
     ]
    }
   ],
   "source": [
    "words = ['The', 'quick', 'brown', 'fox', 'jumps', 'over', 'the', 'lazy', 'dog']\n",
    "list = [len(i) for i in words]\n",
    "print(list)"
   ]
  },
  {
   "cell_type": "code",
   "execution_count": 98,
   "id": "ee20549c",
   "metadata": {},
   "outputs": [
    {
     "name": "stdout",
     "output_type": "stream",
     "text": [
      "THE the 3\n",
      "QUICK quick 5\n",
      "BROWN brown 5\n",
      "FOX fox 3\n",
      "JUMPS jumps 5\n",
      "OVER over 4\n",
      "THE the 3\n",
      "LAZY lazy 4\n",
      "DOG dog 3\n"
     ]
    }
   ],
   "source": [
    "words = ['The', 'quick', 'brown', 'fox', 'jumps', 'over', 'the', 'lazy', 'dog']\n",
    "for name in words:\n",
    "      if len(name)>0:\n",
    "        print(name.upper(),name.lower(),len(name))"
   ]
  },
  {
   "cell_type": "code",
   "execution_count": 99,
   "id": "cbe3256e",
   "metadata": {},
   "outputs": [
    {
     "name": "stdout",
     "output_type": "stream",
     "text": [
      "quick\n",
      "brown\n",
      "jumps\n"
     ]
    }
   ],
   "source": [
    "words = ['The', 'quick', 'brown', 'fox', 'jumps', 'over', 'the', 'lazy', 'dog']\n",
    "for name in words:\n",
    "    if len(name)>4:\n",
    "        print(name)"
   ]
  }
 ],
 "metadata": {
  "kernelspec": {
   "display_name": "Python 3",
   "language": "python",
   "name": "python3"
  },
  "language_info": {
   "codemirror_mode": {
    "name": "ipython",
    "version": 3
   },
   "file_extension": ".py",
   "mimetype": "text/x-python",
   "name": "python",
   "nbconvert_exporter": "python",
   "pygments_lexer": "ipython3",
   "version": "3.8.8"
  }
 },
 "nbformat": 4,
 "nbformat_minor": 5
}
